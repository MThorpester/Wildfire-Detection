{
 "cells": [
  {
   "cell_type": "markdown",
   "metadata": {
    "id": "6QLeYij2sIfc"
   },
   "source": [
    "This notebook makes predictions for all of the images in the smoke and nosmoke image datasets and calculates the true positives, false positives, true negatives and false negatives. For the false positives and false negatives it also writes the images to separate folders for additional analysis. It produces a Confusion Matrix chart."
   ]
  },
  {
   "cell_type": "code",
   "execution_count": 1,
   "metadata": {},
   "outputs": [],
   "source": [
    "# Setup\n",
    "from tensorflow import keras\n",
    "import tensorflow as tf\n",
    "from keras.models import load_model\n",
    "from tensorflow.keras.applications.xception import preprocess_input\n",
    "import numpy as np\n",
    "import os\n",
    "import shutil\n",
    "import pandas as pd\n",
    "import seaborn as sn\n",
    "import matplotlib.pyplot as plt\n",
    "# from sklearn.metrics import confusion_matrix\n"
   ]
  },
  {
   "cell_type": "code",
   "execution_count": 2,
   "metadata": {
    "scrolled": true
   },
   "outputs": [
    {
     "name": "stdout",
     "output_type": "stream",
     "text": [
      "Model: \"sequential\"\n",
      "_________________________________________________________________\n",
      "Layer (type)                 Output Shape              Param #   \n",
      "=================================================================\n",
      "xception (Functional)        (None, 10, 10, 2048)      20861480  \n",
      "_________________________________________________________________\n",
      "flatten (Flatten)            (None, 204800)            0         \n",
      "_________________________________________________________________\n",
      "dense (Dense)                (None, 256)               52429056  \n",
      "_________________________________________________________________\n",
      "dense_1 (Dense)              (None, 1)                 257       \n",
      "=================================================================\n",
      "Total params: 73,290,793\n",
      "Trainable params: 73,236,265\n",
      "Non-trainable params: 54,528\n",
      "_________________________________________________________________\n"
     ]
    }
   ],
   "source": [
    "# load saved model - NOTE: this takes a minute to load (it's 500mb)!\n",
    "#model = tf.keras.models.load_model('MediumXception')\n",
    "model = keras.models.load_model('LargeXception', compile=True)\n",
    "model.summary()"
   ]
  },
  {
   "cell_type": "code",
   "execution_count": 3,
   "metadata": {
    "scrolled": false
   },
   "outputs": [
    {
     "name": "stdout",
     "output_type": "stream",
     "text": [
      " True positives: 54  False negatives: 3\n",
      "Total predictions: 130  False positives: 7  True negatives: 66\n",
      "False positives % 5.38 \n",
      " False negatives % 2.31 \n",
      " True positives % 41.54 \n",
      " True negatives % 50.77 \n",
      " Actual Accuracy % 92.31\n"
     ]
    }
   ],
   "source": [
    "def getMyPrediction(name,model):\n",
    "    image = keras.preprocessing.image.load_img(\n",
    "    name, target_size=(299,299)   \n",
    ")\n",
    "    # Replace the line below with the line above.....to guard against images with incorrect image sizes\n",
    "    #image = tf.keras.preprocessing.image.load_img(name)\n",
    "    input_arr = keras.preprocessing.image.img_to_array(image)\n",
    "    input_arr = np.array([input_arr])  # Convert single image to a batch. \n",
    "    # Note: Xception expects a specific kind of input processing.\n",
    "    # Before passing inputs to the model, call tf.keras.applications.xception.preprocess_input. \n",
    "    # It will scale scale input pixels between -1 and 1.\n",
    "    x = preprocess_input(input_arr)\n",
    "    predictions = model.predict(x)\n",
    "    return(predictions[0][0])\n",
    "\n",
    "# Initialize variables\n",
    "true_positives = 0\n",
    "false_positives = 0\n",
    "true_negatives = 0\n",
    "false_negatives = 0\n",
    "total_predictions = 0\n",
    "y_Actual = []\n",
    "y_Predicted = []\n",
    "\n",
    "smoke_directory = r'C:\\Users\\mthor\\Unsynced Documents\\tinyall\\smoke' # dataset of images containing smoke \n",
    "nosmoke_directory = r'C:\\Users\\mthor\\Unsynced Documents\\tinyall\\nosmoke' # dataset of images containing no smoke \n",
    "#smoke_directory = r'C:\\Users\\mthor\\Unsynced Documents\\LargeSmoke' # dataset of images containing smoke \n",
    "#nosmoke_directory = r'C:\\Users\\mthor\\Unsynced Documents\\LargeNonSmoke' # dataset of images containing no smoke \n",
    "# NOTE: make sure these directories are empty before running this cell\n",
    "false_neg_directory = r'C:\\Users\\mthor\\Bootcamp\\Wildfire-Detection\\Margaret\\falsenegatives'\n",
    "false_pos_directory = r'C:\\Users\\mthor\\Bootcamp\\Wildfire-Detection\\Margaret\\falsepositives'\n",
    "\n",
    "# go through the smoke dataset getting predictions for each image & updating counts\n",
    "# if it's a false negative then copy the image to the false negatives directory\n",
    "\n",
    "nosmoke = 0\n",
    "smoke = 1\n",
    "\n",
    "for filename in os.listdir(smoke_directory):\n",
    "    if filename.endswith(\".jpg\"):\n",
    "        name = os.path.join(smoke_directory, filename)\n",
    "        prediction = getMyPrediction(name,model)\n",
    "        total_predictions = total_predictions + 1\n",
    "        y_Actual.append(smoke)\n",
    "        \n",
    "                   \n",
    "        if prediction > 0.5:\n",
    "            predicted = 'smoke'\n",
    "            y_Predicted.append(smoke)\n",
    "            true_positives = true_positives + 1\n",
    "        else:\n",
    "            if prediction <= 0.5:\n",
    "                predicted = 'nosmoke'\n",
    "                y_Predicted.append(nosmoke)\n",
    "                false_negatives = false_negatives + 1\n",
    "                targetfilepath = os.path.join(false_neg_directory, filename)\n",
    "                shutil.copyfile(name,targetfilepath)\n",
    "    \n",
    "                \n",
    "    else:\n",
    "        continue\n",
    "\n",
    "print(' True positives:', true_positives, ' False negatives:', false_negatives) \n",
    "\n",
    "# go through the nosmoke dataset getting predictions for each image & updating counts\n",
    "# if it's a false positive then copy the image to the false positives directory\n",
    "\n",
    "for filename in os.listdir(nosmoke_directory):\n",
    "    if filename.endswith(\".jpg\"):\n",
    "        name = os.path.join(nosmoke_directory, filename)\n",
    "        prediction = getMyPrediction(name,model)\n",
    "        total_predictions = total_predictions + 1\n",
    "        y_Actual.append(nosmoke)\n",
    "                   \n",
    "        if prediction > 0.5:\n",
    "            predicted = 'smoke'\n",
    "            false_positives = false_positives + 1\n",
    "            y_Predicted.append(smoke)\n",
    "            targetfilepath = os.path.join(false_pos_directory, filename)\n",
    "            shutil.copyfile(name,targetfilepath)\n",
    "        else:\n",
    "            if prediction <= 0.5:\n",
    "                predicted = 'nosmoke'\n",
    "                y_Predicted.append(nosmoke)\n",
    "                true_negatives = true_negatives + 1\n",
    "               \n",
    "                \n",
    "    else:\n",
    "        continue\n",
    "        \n",
    " \n",
    "false_pos_pct = round((false_positives/total_predictions * 100),2)\n",
    "false_neg_pct = round((false_negatives/total_predictions * 100),2)\n",
    "true_pos_pct = round((true_positives/total_predictions * 100),2)\n",
    "true_neg_pct = round((true_negatives/total_predictions * 100),2)\n",
    "actual_accuracy = round((((true_positives + true_negatives)/total_predictions)*100),2)\n",
    "\n",
    "print('Total predictions:', total_predictions, ' False positives:', false_positives, ' True negatives:', true_negatives)\n",
    "print('False positives %',false_pos_pct,'\\n','False negatives %',false_neg_pct, '\\n','True positives %',true_pos_pct, '\\n','True negatives %',true_neg_pct, '\\n','Actual Accuracy %', actual_accuracy)\n",
    "\n"
   ]
  },
  {
   "cell_type": "markdown",
   "metadata": {},
   "source": [
    "So, in the case of the LargeXception model, the Actual accuracy is less than the stats produced at training time indicated:  <br/>\n",
    "Epoch 15/15 <br/>\n",
    "783/783 - 1238s - loss: 0.0092 - binary_accuracy: 0.9962 - val_loss: 0.0035 - val_binary_accuracy: 0.9989 <br/>\n"
   ]
  },
  {
   "cell_type": "code",
   "execution_count": 6,
   "metadata": {},
   "outputs": [
    {
     "name": "stdout",
     "output_type": "stream",
     "text": [
      "Predicted   0   1\n",
      "Actual           \n",
      "0          66   7\n",
      "1           3  54\n"
     ]
    },
    {
     "data": {
      "image/png": "[encoded data removed]",
      "text/plain": [
       "<Figure size 432x288 with 2 Axes>"
      ]
     },
     "metadata": {
      "needs_background": "light"
     },
     "output_type": "display_data"
    }
   ],
   "source": [
    "# Build confusion matrix\n",
    "data = {'y_Actual':  y_Actual,\n",
    "        'y_Predicted': y_Predicted\n",
    "        }\n",
    "\n",
    "df = pd.DataFrame(data, columns=['y_Actual','y_Predicted'])\n",
    "confusion_matrix = pd.crosstab(df['y_Actual'], df['y_Predicted'], rownames=['Actual'], colnames=['Predicted'])\n",
    "print (confusion_matrix)\n",
    "sn.heatmap(confusion_matrix, annot=True)\n",
    "plt.show()\n"
   ]
  },
  {
   "cell_type": "code",
   "execution_count": null,
   "metadata": {},
   "outputs": [],
   "source": []
  }
 ],
 "metadata": {
  "accelerator": "GPU",
  "colab": {
   "machine_shape": "hm",
   "name": "Train_Save_Tiny_xCeption.ipynb",
   "provenance": [],
   "toc_visible": true
  },
  "kernelspec": {
   "display_name": "Python [conda env:PythonData] *",
   "language": "python",
   "name": "conda-env-PythonData-py"
  },
  "language_info": {
   "codemirror_mode": {
    "name": "ipython",
    "version": 3
   },
   "file_extension": ".py",
   "mimetype": "text/x-python",
   "name": "python",
   "nbconvert_exporter": "python",
   "pygments_lexer": "ipython3",
   "version": "3.8.5"
  }
 },
 "nbformat": 4,
 "nbformat_minor": 1
}
