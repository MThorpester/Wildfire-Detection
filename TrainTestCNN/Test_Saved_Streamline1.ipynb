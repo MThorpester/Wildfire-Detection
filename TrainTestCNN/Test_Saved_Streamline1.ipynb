{
 "cells": [
  {
   "cell_type": "markdown",
   "metadata": {
    "id": "6QLeYij2sIfc"
   },
   "source": [
    "This notebook loads a saved Wildfire Detection model, and steps through a directory of test image files passing each image to the model for classification. It prints each image, it's filename and its prediction. The model  uses Xception as a trained base, adds a head and trains with a dataset of 31,000 299x299 images - half containing smoke and half no smoke. It was created using Keras & TensorFlow. "
   ]
  },
  {
   "cell_type": "code",
   "execution_count": 1,
   "metadata": {},
   "outputs": [],
   "source": [
    "# Setup\n",
    "from tensorflow import keras\n",
    "import tensorflow as tf\n",
    "from keras.models import load_model\n",
    "import numpy as np\n"
   ]
  },
  {
   "cell_type": "code",
   "execution_count": null,
   "metadata": {
    "scrolled": false
   },
   "outputs": [],
   "source": [
    "# load saved model - NOTE: this takes a minute to load (it's 100mb)!\n",
    "#model = tf.keras.models.load_model('MediumXception')\n",
    "model = keras.models.load_model('Streamline1', compile=True)\n",
    "# model = keras.models.load_model('MediumXception')\n",
    "model.summary()"
   ]
  },
  {
   "cell_type": "code",
   "execution_count": null,
   "metadata": {},
   "outputs": [],
   "source": [
    "def displayMyImage(name):\n",
    "    image_path = name\n",
    "    image_size = (299,299)\n",
    "    img = cv2.imread(image_path) # with the OpenCV function imread(), the order of colors is BGR (blue, green, red).\n",
    "    img = cv2.cvtColor(img, cv2.COLOR_BGR2RGB) # Converting BGR to RGB for Pillow\n",
    "    display(Image.fromarray(img))\n",
    "\n",
    "def getMyPrediction(name,model):\n",
    "    image = tf.keras.preprocessing.image.load_img(name)\n",
    "    input_arr = keras.preprocessing.image.img_to_array(image)\n",
    "    input_arr = np.array([input_arr])  # Convert single image to a batch. \n",
    "    # Note: Xception expects a specific kind of input processing.\n",
    "    # Before passing inputs to the model, call tf.keras.applications.xception.preprocess_input. \n",
    "    # It will scale scale input pixels between -1 and 1.\n",
    "    x = preprocess_input(input_arr)\n",
    "    predictions = model.predict(x)\n",
    "    if predictions[0][0] <= 0.5:\n",
    "        print(\"The image contains no smoke.\")\n",
    "    if predictions[0][0] > 0.5:\n",
    "        print(\"The image contains smoke.\")\n",
    "    print(predictions[0][0])\n"
   ]
  },
  {
   "cell_type": "code",
   "execution_count": null,
   "metadata": {
    "scrolled": true
   },
   "outputs": [],
   "source": [
    "import os\n",
    "from PIL import Image\n",
    "import cv2 \n",
    "from IPython.display import display\n",
    "from tensorflow.keras.applications.xception import preprocess_input\n",
    "# Get a prediction on a single 299x299 image\n",
    "# name = r'C:\\Users\\mthor\\Bootcamp\\Wildfire-Detection\\Margaret\\subimages\\splitted_38.jpg' #split subimage\n",
    "name = r'C:\\Users\\mthor\\Unsynced Documents\\HPWREN-FigLib_Output2\\1528841646_+00660_centered_1.jpg'\n",
    "displayMyImage(name)\n",
    "print(name)\n",
    "getMyPrediction(name,model)"
   ]
  },
  {
   "cell_type": "code",
   "execution_count": null,
   "metadata": {},
   "outputs": [],
   "source": [
    " # Get a prediction on a single 299x299 image\n",
    "name = r'C:\\Users\\mthor\\Bootcamp\\Wildfire-Detection\\Margaret\\hardtest\\Whittier3-smoke.jpg'\n",
    "\n",
    "displayMyImage(name)\n",
    "print(name)\n",
    "getMyPrediction(name,model)"
   ]
  },
  {
   "cell_type": "code",
   "execution_count": null,
   "metadata": {
    "scrolled": false
   },
   "outputs": [],
   "source": [
    "# Get predictions on a directory of 299x299 images\n",
    "import os\n",
    "from PIL import Image\n",
    "import cv2 \n",
    "from IPython.display import display\n",
    "from tensorflow.keras.applications.xception import preprocess_input\n",
    "\n",
    "\n",
    "#directory = r'C:\\Users\\mthor\\Bootcamp\\Wildfire-Detection\\Margaret\\easytest' # clear images that the model has likely seen\n",
    "#directory = r'C:\\Users\\mthor\\Bootcamp\\Wildfire-Detection\\Margaret\\hardtest' # difficult, unseen images \n",
    "directory = r'C:\\Users\\mthor\\Bootcamp\\Wildfire-Detection\\Margaret\\deerhorn' # subimages from Deerhorn webcam image \n",
    "\n",
    "for filename in os.listdir(directory):\n",
    "    if filename.endswith(\".jpg\"):\n",
    "        name = os.path.join(directory, filename)\n",
    "        displayMyImage(name)\n",
    "        print(name)\n",
    "        getMyPrediction(name,model)\n",
    "    else:\n",
    "        continue"
   ]
  },
  {
   "cell_type": "code",
   "execution_count": null,
   "metadata": {},
   "outputs": [],
   "source": []
  }
 ],
 "metadata": {
  "accelerator": "GPU",
  "colab": {
   "machine_shape": "hm",
   "name": "Train_Save_Tiny_xCeption.ipynb",
   "provenance": [],
   "toc_visible": true
  },
  "kernelspec": {
   "display_name": "Python [conda env:PythonData] *",
   "language": "python",
   "name": "conda-env-PythonData-py"
  },
  "language_info": {
   "codemirror_mode": {
    "name": "ipython",
    "version": 3
   },
   "file_extension": ".py",
   "mimetype": "text/x-python",
   "name": "python",
   "nbconvert_exporter": "python",
   "pygments_lexer": "ipython3",
   "version": "3.8.5"
  }
 },
 "nbformat": 4,
 "nbformat_minor": 1
}
