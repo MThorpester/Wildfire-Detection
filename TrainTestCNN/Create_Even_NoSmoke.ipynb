{
 "cells": [
  {
   "cell_type": "markdown",
   "metadata": {
    "id": "6QLeYij2sIfc"
   },
   "source": [
    "This notebook goes through the full dataset of \"No Smoke\" 299x299 images (currently 44,957) and selects an evenly distributed subset of No Smoke images to train the neural net with, based on the total number required (previous training runs were done with evenly balance number of Smoke & non-Smoke images being added to the training dataset but in the final training run I am going to increase to about a 55%-45% ratio as the model is not discerning enough on the nosmoke images)."
   ]
  },
  {
   "cell_type": "code",
   "execution_count": 1,
   "metadata": {},
   "outputs": [],
   "source": [
    "# Setup\n",
    "import numpy as np\n",
    "import os\n",
    "import shutil"
   ]
  },
  {
   "cell_type": "code",
   "execution_count": 2,
   "metadata": {},
   "outputs": [
    {
     "name": "stdout",
     "output_type": "stream",
     "text": [
      "3\n"
     ]
    }
   ],
   "source": [
    "targetnumber = 17462\n",
    "totalnumberfiles = 44957\n",
    "samplefrequency = round(totalnumberfiles/targetnumber)\n",
    "print(samplefrequency)"
   ]
  },
  {
   "cell_type": "code",
   "execution_count": 3,
   "metadata": {},
   "outputs": [
    {
     "name": "stdout",
     "output_type": "stream",
     "text": [
      "Total files written:  14985\n"
     ]
    }
   ],
   "source": [
    "# Loop through the folder of nosmoke images sampling one every samplefrequency\n",
    "\n",
    "folder_of_input_files = r'C:\\Users\\mthor\\Unsynced Documents\\NonSmoke-Full'\n",
    "folder_of_output_files = r'C:\\Users\\mthor\\Unsynced Documents\\NewlySampledNonSmoke'\n",
    "\n",
    "directory_in = folder_of_input_files # folder containing nosmoke images \n",
    "directory_out = folder_of_output_files # folder containing nosmoke images \n",
    "filecount = 0\n",
    "filesout = 0\n",
    "for filename in os.listdir(directory_in):\n",
    "    filecount = filecount + 1\n",
    "    if filecount == samplefrequency:\n",
    "        if filename.endswith(\".jpg\"):\n",
    "            originalfilepath = os.path.join(directory_in, filename)\n",
    "            targetfilepath = os.path.join(directory_out, filename)\n",
    "            shutil.copyfile(originalfilepath,targetfilepath)\n",
    "            # print(filename, \" copied\")\n",
    "            # filecount = 0\n",
    "            filecount = 0\n",
    "            filesout = filesout + 1\n",
    "            if filesout >= 44958:\n",
    "                break\n",
    "        else:\n",
    "            continue\n",
    "    else:\n",
    "        continue\n",
    "print('Total files written: ',filesout)\n",
    "        \n",
    "\n",
    "\n"
   ]
  },
  {
   "cell_type": "code",
   "execution_count": 4,
   "metadata": {},
   "outputs": [
    {
     "name": "stdout",
     "output_type": "stream",
     "text": [
      "2477\n"
     ]
    }
   ],
   "source": [
    "needed = 17462 - 14985\n",
    "print(needed)"
   ]
  },
  {
   "cell_type": "code",
   "execution_count": 5,
   "metadata": {},
   "outputs": [
    {
     "name": "stdout",
     "output_type": "stream",
     "text": [
      "Total files written:  2477\n"
     ]
    }
   ],
   "source": [
    "# Loop through the folder of nosmoke images getting 670 more imagesthat were not taken in the prevoius sample\n",
    "# to add to the dataset\n",
    "\n",
    "folder_of_input_files = r'C:\\Users\\mthor\\Unsynced Documents\\NonSmoke-Full'\n",
    "folder_of_output_files = r'C:\\Users\\mthor\\Unsynced Documents\\NewlySampledNonSmoke'\n",
    "\n",
    "directory_in = folder_of_input_files # folder containing nosmoke images \n",
    "directory_out = folder_of_output_files # folder containing nosmoke images \n",
    "filecount = 0\n",
    "filesout = 0\n",
    "for filename in os.listdir(directory_in):\n",
    "    filecount = filecount + 1\n",
    "    #if filecount == samplefrequency:\n",
    "    if (filecount % samplefrequency) != 0:\n",
    "        if filename.endswith(\".jpg\"):\n",
    "            originalfilepath = os.path.join(directory_in, filename)\n",
    "            targetfilepath = os.path.join(directory_out, filename)\n",
    "            shutil.copyfile(originalfilepath,targetfilepath)\n",
    "            # print(filename, \" copied\")\n",
    "            # filecount = 0\n",
    "            # filecount = 0\n",
    "            filesout = filesout + 1\n",
    "            if filesout >= 2477:\n",
    "                break\n",
    "        else:\n",
    "            continue\n",
    "    else:\n",
    "        continue\n",
    "print('Total files written: ',filesout)\n",
    "        \n",
    "\n",
    "\n"
   ]
  },
  {
   "cell_type": "code",
   "execution_count": null,
   "metadata": {},
   "outputs": [],
   "source": []
  }
 ],
 "metadata": {
  "accelerator": "GPU",
  "colab": {
   "machine_shape": "hm",
   "name": "Train_Save_Tiny_xCeption.ipynb",
   "provenance": [],
   "toc_visible": true
  },
  "kernelspec": {
   "display_name": "Python [conda env:PythonData] *",
   "language": "python",
   "name": "conda-env-PythonData-py"
  },
  "language_info": {
   "codemirror_mode": {
    "name": "ipython",
    "version": 3
   },
   "file_extension": ".py",
   "mimetype": "text/x-python",
   "name": "python",
   "nbconvert_exporter": "python",
   "pygments_lexer": "ipython3",
   "version": "3.8.5"
  }
 },
 "nbformat": 4,
 "nbformat_minor": 1
}
