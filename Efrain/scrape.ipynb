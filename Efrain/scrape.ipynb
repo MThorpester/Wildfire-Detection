{
 "cells": [
  {
   "cell_type": "code",
   "execution_count": 1,
   "metadata": {},
   "outputs": [],
   "source": [
    "# Import Python Modules\n",
    "from splinter import Browser\n",
    "from PIL import Image\n",
    "from bs4 import BeautifulSoup as bs\n",
    "from webdriver_manager.chrome import ChromeDriverManager\n",
    "import requests\n",
    "import pandas as pd\n",
    "import time"
   ]
  },
  {
   "cell_type": "code",
   "execution_count": null,
   "metadata": {},
   "outputs": [],
   "source": []
  },
  {
   "cell_type": "code",
   "execution_count": 2,
   "metadata": {},
   "outputs": [
    {
     "name": "stderr",
     "output_type": "stream",
     "text": [
      "[WDM] - ====== WebDriver manager ======\n",
      "[WDM] - Current google-chrome version is 90.0.4430\n",
      "[WDM] - Get LATEST driver version for 90.0.4430\n"
     ]
    },
    {
     "name": "stdout",
     "output_type": "stream",
     "text": [
      "\n",
      "\n"
     ]
    },
    {
     "name": "stderr",
     "output_type": "stream",
     "text": [
      "[WDM] - Driver [C:\\Users\\elope\\.wdm\\drivers\\chromedriver\\win32\\90.0.4430.24\\chromedriver.exe] found in cache\n"
     ]
    }
   ],
   "source": [
    "# Initiate headless driver for deployment\n",
    "executable_path = {'executable_path': ChromeDriverManager().install()}\n",
    "browser = Browser('chrome', **executable_path, headless=False)"
   ]
  },
  {
   "cell_type": "code",
   "execution_count": 3,
   "metadata": {},
   "outputs": [],
   "source": [
    "# Go to the Deerhorn Camera Site \n",
    "url = 'http://www.alertwildfire.org/northcoast/index.html?camera=Axis-DeerHorn2&v=fd40728'\n",
    "# url = 'https://mars.nasa.gov/news/?page=0&per_page=40&order=publish_date+desc%2Ccreated_at+desc&search=&category=19%2C165%2C184%2C204&blank_scope=Latest'\n",
    "browser.visit(url)"
   ]
  },
  {
   "cell_type": "code",
   "execution_count": 15,
   "metadata": {},
   "outputs": [
    {
     "data": {
      "text/plain": [
       "'\\n\\t\\t\\t\\t\\t<div id=\"camera-block-timelapse-image\">\\n\\t\\t\\t\\t\\t\\t<img id=\"timelapseImg\" src=\"\" style=\"display:none\">\\n\\t\\t\\t\\t\\t\\t<img id=\"timelapseBusy\" src=\"/static/images/spinner.gif\">\\n\\t\\t\\t\\t\\t\\t<div id=\"timelapseControls\">\\n\\t\\t\\t\\t\\t\\t\\t<div id=\"timelapseBtns\">\\n\\t\\t\\t\\t\\t\\t\\t\\t<button id=\"timelapsePlay\" class=\"timelapseBtn\">\\n\\t\\t\\t\\t\\t\\t\\t\\t\\t<div class=\"imgWrap\">\\n\\t\\t\\t\\t\\t\\t\\t\\t\\t\\t<img class=\"btnImg\" src=\"/static/images/play-pause.svg\" title=\"Play\">\\n\\t\\t\\t\\t\\t\\t\\t\\t\\t</div>\\n\\t\\t\\t\\t\\t\\t\\t\\t\\t<span class=\"playLabel\">Play</span>\\n\\t\\t\\t\\t\\t\\t\\t\\t\\t<span class=\"pauseLabel\">Pause</span>\\n\\t\\t\\t\\t\\t\\t\\t\\t</button>\\n\\t\\t\\t\\t\\t\\t\\t\\t<button id=\"timelapsePrev\" class=\"timelapseBtn\">\\n\\t\\t\\t\\t\\t\\t\\t\\t\\t<div class=\"imgWrap\">\\n\\t\\t\\t\\t\\t\\t\\t\\t\\t\\t<img class=\"btnImg\" src=\"/static/images/play-prev.svg\" title=\"Previous\">\\n\\t\\t\\t\\t\\t\\t\\t\\t\\t</div>\\n\\t\\t\\t\\t\\t\\t\\t\\t\\t<span>Prev</span>\\n\\t\\t\\t\\t\\t\\t\\t\\t</button>\\n\\t\\t\\t\\t\\t\\t\\t\\t<button id=\"timelapseNext\" class=\"timelapseBtn\">\\n\\t\\t\\t\\t\\t\\t\\t\\t\\t<div class=\"imgWrap\">\\n\\t\\t\\t\\t\\t\\t\\t\\t\\t\\t<img class=\"btnImg\" src=\"/static/images/play-next.svg\" title=\"Next\">\\n\\t\\t\\t\\t\\t\\t\\t\\t\\t</div>\\n\\t\\t\\t\\t\\t\\t\\t\\t\\t<span>Next</span>\\n\\t\\t\\t\\t\\t\\t\\t\\t</button>\\n\\t\\t\\t\\t\\t\\t\\t\\t<button id=\"timelapseStop\" class=\"timelapseBtn\">\\n\\t\\t\\t\\t\\t\\t\\t\\t\\t<div class=\"btnIcon\">■</div>\\n\\t\\t\\t\\t\\t\\t\\t\\t\\t<span>Stop</span>\\n\\t\\t\\t\\t\\t\\t\\t\\t</button>\\n\\t\\t\\t\\t\\t\\t\\t</div>\\n\\t\\t\\t\\t\\t\\t\\t<span id=\"timelapsePct\">0%</span>\\n\\t\\t\\t\\t\\t\\t\\t<div id=\"timelapseProgressWrap\">\\n\\t\\t\\t\\t\\t\\t\\t\\t<progress id=\"timelapseProgress\" max=\"0\" value=\"0\"></progress>\\n\\t\\t\\t\\t\\t\\t\\t\\t<div id=\"timelapsePtr\"></div>\\n\\t\\t\\t\\t\\t\\t\\t</div>\\n\\t\\t\\t\\t\\t\\t</div>\\n\\t\\t\\t\\t\\t</div>\\n\\t\\t\\t\\t<div class=\"leaflet-map-pane\" style=\"transform: translate3d(260px, 156px, 0px);\"><div class=\"leaflet-tile-pane\"></div><div class=\"leaflet-objects-pane\"><div class=\"leaflet-shadow-pane\"></div><div class=\"leaflet-overlay-pane\"><img class=\"leaflet-image-layer leaflet-zoom-animated\" src=\"//s3-us-west-2.amazonaws.com/alertwildfire-data-public/Axis-DeerHorn2/latest_full.jpg?x-request-time=1622683977874\" style=\"opacity: 1; transform: translate3d(-260px, -157px, 0px); width: 693px; height: 390px;\"></div><div class=\"leaflet-marker-pane\"></div><div class=\"leaflet-popup-pane\"></div></div></div><div class=\"leaflet-control-container\"><div class=\"leaflet-top leaflet-left\"></div><div class=\"leaflet-top leaflet-right\"></div><div class=\"leaflet-bottom leaflet-left\"></div><div class=\"leaflet-bottom leaflet-right\"></div></div><div class=\"leaflet-contextmenu\" style=\"z-index: 10000; position: absolute;\"></div>'"
      ]
     },
     "execution_count": 15,
     "metadata": {},
     "output_type": "execute_result"
    }
   ],
   "source": [
    "browser.find_by_id('camera-block-image').html"
   ]
  },
  {
   "cell_type": "code",
   "execution_count": 8,
   "metadata": {},
   "outputs": [
    {
     "data": {
      "text/plain": [
       "['__class__',\n",
       " '__delattr__',\n",
       " '__dict__',\n",
       " '__dir__',\n",
       " '__doc__',\n",
       " '__enter__',\n",
       " '__eq__',\n",
       " '__exit__',\n",
       " '__format__',\n",
       " '__ge__',\n",
       " '__getattribute__',\n",
       " '__gt__',\n",
       " '__hash__',\n",
       " '__init__',\n",
       " '__init_subclass__',\n",
       " '__le__',\n",
       " '__lt__',\n",
       " '__module__',\n",
       " '__ne__',\n",
       " '__new__',\n",
       " '__reduce__',\n",
       " '__reduce_ex__',\n",
       " '__repr__',\n",
       " '__setattr__',\n",
       " '__sizeof__',\n",
       " '__str__',\n",
       " '__subclasshook__',\n",
       " '__weakref__',\n",
       " '_cookie_manager',\n",
       " 'attach_file',\n",
       " 'back',\n",
       " 'check',\n",
       " 'choose',\n",
       " 'click_link_by_href',\n",
       " 'click_link_by_id',\n",
       " 'click_link_by_partial_href',\n",
       " 'click_link_by_partial_text',\n",
       " 'click_link_by_text',\n",
       " 'cookies',\n",
       " 'driver',\n",
       " 'driver_name',\n",
       " 'element_class',\n",
       " 'evaluate_script',\n",
       " 'execute_script',\n",
       " 'fill',\n",
       " 'fill_form',\n",
       " 'find_by',\n",
       " 'find_by_css',\n",
       " 'find_by_id',\n",
       " 'find_by_name',\n",
       " 'find_by_tag',\n",
       " 'find_by_text',\n",
       " 'find_by_value',\n",
       " 'find_by_xpath',\n",
       " 'find_link_by_href',\n",
       " 'find_link_by_partial_href',\n",
       " 'find_link_by_partial_text',\n",
       " 'find_link_by_text',\n",
       " 'find_option_by_text',\n",
       " 'find_option_by_value',\n",
       " 'forward',\n",
       " 'full_screen',\n",
       " 'get_alert',\n",
       " 'get_iframe',\n",
       " 'html',\n",
       " 'html_snapshot',\n",
       " 'is_element_not_present',\n",
       " 'is_element_not_present_by_css',\n",
       " 'is_element_not_present_by_id',\n",
       " 'is_element_not_present_by_name',\n",
       " 'is_element_not_present_by_tag',\n",
       " 'is_element_not_present_by_text',\n",
       " 'is_element_not_present_by_value',\n",
       " 'is_element_not_present_by_xpath',\n",
       " 'is_element_not_visible',\n",
       " 'is_element_not_visible_by_css',\n",
       " 'is_element_not_visible_by_xpath',\n",
       " 'is_element_present',\n",
       " 'is_element_present_by_css',\n",
       " 'is_element_present_by_id',\n",
       " 'is_element_present_by_name',\n",
       " 'is_element_present_by_tag',\n",
       " 'is_element_present_by_text',\n",
       " 'is_element_present_by_value',\n",
       " 'is_element_present_by_xpath',\n",
       " 'is_element_visible',\n",
       " 'is_element_visible_by_css',\n",
       " 'is_element_visible_by_xpath',\n",
       " 'is_text_not_present',\n",
       " 'is_text_present',\n",
       " 'links',\n",
       " 'quit',\n",
       " 'recover_screen',\n",
       " 'reload',\n",
       " 'screenshot',\n",
       " 'select',\n",
       " 'select_by_text',\n",
       " 'status_code',\n",
       " 'title',\n",
       " 'type',\n",
       " 'uncheck',\n",
       " 'url',\n",
       " 'visit',\n",
       " 'wait_time',\n",
       " 'windows']"
      ]
     },
     "execution_count": 8,
     "metadata": {},
     "output_type": "execute_result"
    }
   ],
   "source": [
    "dir(browser)"
   ]
  },
  {
   "cell_type": "code",
   "execution_count": 4,
   "metadata": {},
   "outputs": [],
   "source": [
    "\n",
    "# # Create a Beautiful Soup object\n",
    "soup = bs(browser.html, 'lxml')\n",
    "\n",
    "latest_image = soup.find_all('img', class_ = 'leaflet-image-layer leaflet-zoom-animated')\n",
    "image_url = []\n",
    "\n",
    "for image in latest_image:\n",
    "    image_url.append(image['src'])\n",
    "\n",
    "# img = image.open(requests.get(image_url, stream = True).raw)\n",
    "\n",
    "# img.save('image.jpg')\n",
    "\n",
    "# browser.quit()"
   ]
  },
  {
   "cell_type": "code",
   "execution_count": 5,
   "metadata": {},
   "outputs": [
    {
     "data": {
      "text/plain": [
       "[<img class=\"leaflet-image-layer leaflet-zoom-animated\" src=\"//s3-us-west-2.amazonaws.com/alertwildfire-data-public/Axis-DeerHorn2/latest_full.jpg?x-request-time=1622683058953\" style=\"opacity: 1; transform: translate3d(287px, 270px, 0px); width: 575px; height: 323px;\"/>]"
      ]
     },
     "execution_count": 5,
     "metadata": {},
     "output_type": "execute_result"
    }
   ],
   "source": [
    "latest_image"
   ]
  },
  {
   "cell_type": "code",
   "execution_count": 6,
   "metadata": {},
   "outputs": [
    {
     "name": "stdout",
     "output_type": "stream",
     "text": [
      "['//s3-us-west-2.amazonaws.com/alertwildfire-data-public/Axis-DeerHorn2/latest_full.jpg?x-request-time=1622683058953']\n"
     ]
    }
   ],
   "source": [
    "print(image_url)"
   ]
  },
  {
   "cell_type": "code",
   "execution_count": null,
   "metadata": {},
   "outputs": [],
   "source": [
    "soup = bs(browser.html, 'lxml')\n",
    " \n",
    "domain_url = 'https://' + browser.url.replace('http://','').replace('https://','').split('/', 1)[0]"
   ]
  },
  {
   "cell_type": "code",
   "execution_count": null,
   "metadata": {},
   "outputs": [],
   "source": [
    "img = Image.open(requests.get(image_url, stream = True).raw)\n",
    "\n",
    "img.save('image.jpg')"
   ]
  },
  {
   "cell_type": "code",
   "execution_count": null,
   "metadata": {},
   "outputs": [],
   "source": [
    "print(domain_url + image_url[0])\n",
    "# browser.visit(domain_url + image_url[0]) "
   ]
  },
  {
   "cell_type": "code",
   "execution_count": null,
   "metadata": {},
   "outputs": [],
   "source": [
    "from PIL import Image\n",
    "import requests\n",
    "import bs4\n",
    "\n",
    "url = 'http://www.alertwildfire.org/northcoast/index.html?camera=Axis-DeerHorn2&v=fd40728'\n",
    "\n",
    "response = requests.get(url)\n",
    "\n",
    "soup = bs4.BeautifulSoup(response.text, 'html.parser')\n",
    "\n",
    "# domain_url = 'https://' + browser.url.replace('http://','').replace('https://','').split('/', 1)[0]\n",
    "\n",
    "image = soup.find('img')\n",
    "image_url = image['src']\n",
    "print(image_url)\n",
    "\n",
    "img = Image.open(requests.get(image_url, stream = True).raw)\n",
    "\n",
    "img.save('image.jpg')"
   ]
  },
  {
   "cell_type": "code",
   "execution_count": null,
   "metadata": {},
   "outputs": [],
   "source": []
  }
 ],
 "metadata": {
  "kernelspec": {
   "display_name": "Python 3",
   "language": "python",
   "name": "python3"
  },
  "language_info": {
   "codemirror_mode": {
    "name": "ipython",
    "version": 3
   },
   "file_extension": ".py",
   "mimetype": "text/x-python",
   "name": "python",
   "nbconvert_exporter": "python",
   "pygments_lexer": "ipython3",
   "version": "3.8.3"
  }
 },
 "nbformat": 4,
 "nbformat_minor": 4
}
