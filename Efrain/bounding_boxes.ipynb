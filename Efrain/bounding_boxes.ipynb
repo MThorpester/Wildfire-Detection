{
 "cells": [
  {
   "cell_type": "code",
   "execution_count": 1,
   "metadata": {},
   "outputs": [],
   "source": [
    "# importing image object from PIL\n",
    "import math\n",
    "import requests\n",
    "import glob\n",
    "import os\n",
    "from PIL import Image, ImageDraw"
   ]
  },
  {
   "cell_type": "code",
   "execution_count": 2,
   "metadata": {},
   "outputs": [],
   "source": [
    "api = \"http://metavision.tech:5000/api/v1.0/predict/images/image.jpg/.50\""
   ]
  },
  {
   "cell_type": "code",
   "execution_count": 3,
   "metadata": {},
   "outputs": [],
   "source": [
    "images = requests.get(api).json()"
   ]
  },
  {
   "cell_type": "code",
   "execution_count": 15,
   "metadata": {},
   "outputs": [],
   "source": [
    "# images"
   ]
  },
  {
   "cell_type": "code",
   "execution_count": 16,
   "metadata": {},
   "outputs": [],
   "source": [
    "shape_arr = []\n",
    "for image in images:\n",
    "    shape_arr.append({\n",
    "        'x1':image['x'],\n",
    "        'x2':image['x'] + image['width'],\n",
    "        'y1':image['y'],\n",
    "        'y2':image['y'] +  image['height']        \n",
    "    })"
   ]
  },
  {
   "cell_type": "code",
   "execution_count": 17,
   "metadata": {},
   "outputs": [],
   "source": [
    "# shape_arr"
   ]
  },
  {
   "cell_type": "code",
   "execution_count": 7,
   "metadata": {},
   "outputs": [],
   "source": [
    "# x1= images[0]['x']\n",
    "# x2= (x1 + images[0]['width'])\n",
    "# y1= images[0]['y']\n",
    "# y2= (y1 + images[0]['height'])"
   ]
  },
  {
   "cell_type": "code",
   "execution_count": 8,
   "metadata": {},
   "outputs": [],
   "source": [
    "# x3= images[1]['x']\n",
    "# x4= (x3 + images[0]['width'])\n",
    "# y3= images[1]['y']\n",
    "# y4= (y3 + images[0]['height'])"
   ]
  },
  {
   "cell_type": "code",
   "execution_count": 9,
   "metadata": {},
   "outputs": [],
   "source": [
    "# x5= images[2]['x']\n",
    "# x6= (x5 + images[0]['width'])\n",
    "# y5= images[2]['y']\n",
    "# y6= (y5 + images[0]['height'])"
   ]
  },
  {
   "cell_type": "code",
   "execution_count": 10,
   "metadata": {},
   "outputs": [],
   "source": [
    "# # w, h = 299, 299\n",
    "# # shape = [(x1, y1), (w + 299, h + 299)]\n",
    "# shape = [(x1, y1), (x2,y2)]\n",
    "# shape2 = [(x3, y3), (x4,y4)]\n",
    "# shape3 = [(x5, y5), (x6,y6)]"
   ]
  },
  {
   "cell_type": "code",
   "execution_count": 11,
   "metadata": {},
   "outputs": [],
   "source": [
    "# creating new Image object\n",
    "# img = Image.open(\"1512674284_+00300.jpg\")\n",
    "img = Image.open(\"images/image1.jpg\")\n",
    "# img = Image.open(\"http://metavision.tech/images/image.jpg\")\n",
    "# script_dir = os.path.dirname(__file__)"
   ]
  },
  {
   "cell_type": "code",
   "execution_count": 12,
   "metadata": {},
   "outputs": [],
   "source": [
    "# x1,x2,y1,y2 = shape_arr[0].values()"
   ]
  },
  {
   "cell_type": "code",
   "execution_count": 13,
   "metadata": {},
   "outputs": [],
   "source": [
    "# x1"
   ]
  },
  {
   "cell_type": "code",
   "execution_count": 14,
   "metadata": {},
   "outputs": [],
   "source": [
    "img1 = ImageDraw.Draw(img)  \n",
    "for shape in shape_arr:\n",
    "    x1,x2,y1,y2 = shape.values()\n",
    "    img1.rectangle([(x1, y1), (x2,y2)], outline = \"red\")\n",
    "img.show()"
   ]
  },
  {
   "cell_type": "code",
   "execution_count": null,
   "metadata": {},
   "outputs": [],
   "source": [
    "# # create rectangle image\n",
    "# img1 = ImageDraw.Draw(img)  \n",
    "# img1.rectangle(shape, outline =\"red\")\n",
    "# img1.rectangle(shape2, outline =\"red\")\n",
    "# img1.rectangle(shape3, outline =\"red\")\n",
    "\n",
    "# img.show()"
   ]
  },
  {
   "cell_type": "code",
   "execution_count": null,
   "metadata": {},
   "outputs": [],
   "source": []
  }
 ],
 "metadata": {
  "kernelspec": {
   "display_name": "Python 3",
   "language": "python",
   "name": "python3"
  },
  "language_info": {
   "codemirror_mode": {
    "name": "ipython",
    "version": 3
   },
   "file_extension": ".py",
   "mimetype": "text/x-python",
   "name": "python",
   "nbconvert_exporter": "python",
   "pygments_lexer": "ipython3",
   "version": "3.8.3"
  }
 },
 "nbformat": 4,
 "nbformat_minor": 4
}
